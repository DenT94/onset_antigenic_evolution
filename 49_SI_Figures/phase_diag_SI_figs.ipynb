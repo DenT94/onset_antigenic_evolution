{
 "cells": [
  {
   "cell_type": "code",
   "execution_count": null,
   "metadata": {},
   "outputs": [],
   "source": []
  },
  {
   "cell_type": "code",
   "execution_count": 1,
   "metadata": {},
   "outputs": [],
   "source": [
    "import random\n",
    "import numpy.random as rnd\n",
    "\n",
    "from anytree import Node\n",
    "from tqdm import tqdm\n",
    "import numpy as np\n",
    "import os\n",
    "import sys\n",
    "if(sys.version_info[1]<= 7):\n",
    "    import pickle5 as pickle\n",
    "else:\n",
    "    import pickle\n",
    "import json\n",
    "\n",
    "from scipy.integrate import odeint\n",
    "import scipy.special as sps\n",
    "import scipy.optimize as spo\n",
    "from scipy.integrate import odeint\n",
    "#import interp1d\n",
    "from scipy.interpolate import interp1d\n",
    "\n",
    "from jupyter_server import serverapp as app; \n",
    "import ipykernel, requests;\n",
    "\n",
    "from mesa import Model, Agent\n",
    "from mesa.time import RandomActivation\n",
    "from mesa.datacollection import DataCollector\n",
    "\n",
    "import pandas as pd\n",
    "import seaborn as sns\n",
    "import matplotlib.pyplot as plt\n",
    "import matplotlib.gridspec as gridspec\n",
    "import matplotlib as mpl\n",
    "from matplotlib.ticker import FuncFormatter\n",
    "\n",
    "from numba import jit\n",
    "\n",
    "#matplotlib.use('TkAgg')\n",
    "from matplotlib.lines import Line2D\n",
    "plt.rc('mathtext', default='regular')\n",
    "\n",
    "# sns.set_style(\"ticks\")\n",
    "plt.rc('lines', linewidth=3.0)\n",
    "plt.rcParams['xtick.labelsize']=30\n",
    "plt.rcParams['ytick.labelsize']=30\n",
    "plt.rcParams['axes.labelsize']=35\n",
    "plt.rcParams['legend.fontsize']= 35\n",
    "plt.rcParams['figure.figsize'] = (20, 10)\n",
    "plt.rcParams['image.cmap']='coolwarm'\n",
    "plt.rcParams['axes.titlesize'] = 40\n",
    "plt.rcParams['figure.titlesize'] = 40\n",
    "#set legend titlesize to 40\n",
    "plt.rcParams['legend.title_fontsize'] = 40"
   ]
  },
  {
   "cell_type": "code",
   "execution_count": 2,
   "metadata": {},
   "outputs": [],
   "source": [
    "sns.reset_defaults()"
   ]
  },
  {
   "cell_type": "code",
   "execution_count": 3,
   "metadata": {},
   "outputs": [],
   "source": [
    "plt.rc('mathtext', default='regular')\n",
    "\n",
    "\n",
    "plt.rc('lines', linewidth=3.0)\n",
    "plt.rcParams['xtick.labelsize']=30\n",
    "plt.rcParams['ytick.labelsize']=30\n",
    "plt.rcParams['axes.labelsize']=35\n",
    "plt.rcParams['legend.fontsize']= 35\n",
    "plt.rcParams['figure.figsize'] = (20, 10)\n",
    "plt.rcParams['image.cmap']='coolwarm'\n",
    "plt.rcParams['axes.titlesize'] = 40\n",
    "plt.rcParams['figure.titlesize'] = 40\n",
    "#set legend titlesize to 40\n",
    "plt.rcParams['legend.title_fontsize'] = 40"
   ]
  },
  {
   "cell_type": "code",
   "execution_count": 4,
   "metadata": {},
   "outputs": [],
   "source": [
    "home = os.path.expanduser(\"~\")\n",
    "project_path =  '..'\n",
    "if project_path not in sys.path:\n",
    "    sys.path.append(project_path)\n",
    "\n",
    "sys.path.insert(1, project_path)"
   ]
  },
  {
   "cell_type": "code",
   "execution_count": 5,
   "metadata": {},
   "outputs": [],
   "source": [
    "import analysis.mathematical_functions.funcs as funcs"
   ]
  },
  {
   "cell_type": "code",
   "execution_count": 6,
   "metadata": {},
   "outputs": [],
   "source": [
    "data_folder = os.path.relpath('../data/parameter_runs/proper_pd_3/')\n",
    "data_files = os.listdir(data_folder)\n",
    "data_files = [data_folder+'/'+f for f in data_files if f.endswith('_feather')]\n",
    "dataframes = [pd.read_feather(f) for f in data_files]"
   ]
  },
  {
   "cell_type": "code",
   "execution_count": 7,
   "metadata": {},
   "outputs": [],
   "source": [
    "output_folder = os.path.relpath('../3_outputs')"
   ]
  },
  {
   "cell_type": "code",
   "execution_count": 8,
   "metadata": {},
   "outputs": [],
   "source": [
    "if len(dataframes)==1:\n",
    "    datadf = dataframes[0]"
   ]
  },
  {
   "cell_type": "code",
   "execution_count": 9,
   "metadata": {},
   "outputs": [],
   "source": [
    "R0s = np.array(sorted(list(set(datadf['infection_rate']))))\n",
    "mu_s = np.array(sorted(list(set(datadf['mutation_rate']))))\n",
    "xi_s = np.array(sorted(list(set(datadf['xi']))))\n",
    "kappa_s = np.array(sorted(list(set(datadf['kappa']))))\n",
    "N = datadf['N'].unique()[0]"
   ]
  },
  {
   "cell_type": "code",
   "execution_count": 10,
   "metadata": {},
   "outputs": [],
   "source": [
    "%load_ext autoreload"
   ]
  },
  {
   "cell_type": "code",
   "execution_count": 11,
   "metadata": {},
   "outputs": [],
   "source": [
    "cwd = os.getcwd()\n",
    "folder_name = cwd.split('/')[-1]\n",
    "\n",
    "parallel_subfolder= 'results'\n",
    "results_folder = os.path.relpath(project_path+'/'+parallel_subfolder)\n",
    "os.makedirs(results_folder,exist_ok=True)"
   ]
  },
  {
   "cell_type": "code",
   "execution_count": 12,
   "metadata": {},
   "outputs": [],
   "source": [
    "if len(data_files)==1:\n",
    "    dataname = data_files[0][funcs.find_end_substring(data_files[0],parallel_subfolder)+1: data_files[0].find('abm')]\n",
    "    results_name = results_folder+'/'+dataname\n",
    "    results_name = 'results/'\n",
    "else:\n",
    "    raise ValueError"
   ]
  },
  {
   "cell_type": "code",
   "execution_count": 13,
   "metadata": {},
   "outputs": [],
   "source": [
    "def get_p_evo_from_df(R0,mu,xi, kappa, datadf, pbar = None):\n",
    "    dpdf = datadf.query(f'infection_rate =={R0} & mutation_rate=={mu} & xi=={xi} & kappa=={kappa}')\n",
    "    if pbar is not None:\n",
    "        pbar.update(1)\n",
    "    return 1-len(dpdf[datadf.isin([np.inf, -np.inf]).any(axis=1)])/len(dpdf)"
   ]
  },
  {
   "cell_type": "code",
   "execution_count": 14,
   "metadata": {},
   "outputs": [
    {
     "name": "stderr",
     "output_type": "stream",
     "text": [
      "  0%|          | 0/1320 [00:00<?, ?it/s]"
     ]
    }
   ],
   "source": [
    "prog_bar = tqdm(total= len(list(funcs.product(mu_s,xi_s,R0s, kappa_s))))\n",
    "if not os.path.exists(results_name+'p_evo_df.feather'):\n",
    "    p_evo_df = pd.DataFrame.from_dict({i:(mu,xi,r, kappa ,get_p_evo_from_df(r,mu,xi, kappa ,datadf,prog_bar)) for i,(mu,xi,r,kappa) in tqdm(enumerate(funcs.product(mu_s,xi_s,R0s, kappa_s)))},orient='index', columns=['mu','xi','R0', 'kappa','p_evo'])\n",
    "    p_evo_df.to_feather(results_name+'p_evo_df.feather')\n",
    "else:\n",
    "    p_evo_df = pd.read_feather(results_name+'p_evo_df.feather')\n",
    "p_evo_df['p_alpha'] = datadf['p_alpha'].unique()[0]\n",
    "p_evo_df['N'] = datadf['N'].unique()[0]\n",
    "p_evo_df['mu'] = datadf['mutation_rate'].unique()[0]\n",
    "p_evo_df['xi_d']=  -1/np.log(1-p_evo_df['p_alpha'])\n",
    "p_evo_df['mut_strength'] = p_evo_df['xi_d']/p_evo_df['xi'] * np.log(p_evo_df['mu']*p_evo_df['N'])\n",
    "p_evo_df['kappa_plot'] = 1 + np.round(p_evo_df['kappa'],2)\n",
    "\n"
   ]
  },
  {
   "cell_type": "code",
   "execution_count": 15,
   "metadata": {},
   "outputs": [],
   "source": [
    "x_mu_strengths = p_evo_df['mut_strength'].unique()\n",
    "x_mu_strengths = np.sort(x_mu_strengths)"
   ]
  },
  {
   "cell_type": "code",
   "execution_count": 16,
   "metadata": {},
   "outputs": [],
   "source": [
    "import matplotlib.colors as mcolors\n",
    "colors_kappa = funcs.color_dict(kappa_s, plt.cm.plasma_r)"
   ]
  },
  {
   "cell_type": "code",
   "execution_count": 17,
   "metadata": {},
   "outputs": [],
   "source": [
    "def model_w_params(R0, N, k): \n",
    "    def model(y,t):\n",
    "        S = y[0]\n",
    "        I = y[1]\n",
    "        R0_eff = R0/(1+k*I/(N))\n",
    "        dSdt = - R0_eff * S*I/N \n",
    "        dIdt =  R0_eff * S*I/N -I\n",
    "        return [dSdt,dIdt]\n",
    "    return model\n",
    "\n",
    "def find_x_inf(R0,k):\n",
    "    if k>0:\n",
    "        c = (R0-k+R0*k)/(k*(R0-k))\n",
    "        rho = 1/(R0/k)\n",
    "        y_x = lambda x: c*x**rho + x/(rho-1) - 1/k\n",
    "\n",
    "        roots = so.fsolve(y_x, 0)\n",
    "        return roots[0]\n",
    "    else:\n",
    "        return np.real(-1/R0*sps.lambertw(-R0*np.exp(-R0)))\n",
    "\n",
    "def integrate_trajectory(R0,kappa,N, I0=10):\n",
    "    S0 = N-I0\n",
    "    y0 = [S0,I0]\n",
    "    x_inf = find_x_inf(R0,kappa)\n",
    "    \n",
    "    t_end = 1.5*np.log(N)* (1/(R0-1) + 1/(1-R0*x_inf))\n",
    "    ts = np.linspace(0, t_end,100000)\n",
    "    dt = ts[1]-ts[0]\n",
    "    solution  = odeint(model_w_params(R0,N,kappa),y0,ts).T\n",
    "    x,y= solution\n",
    "    tp = ts[np.argmax(y)]\n",
    "\n",
    "\n",
    "    return ts, solution"
   ]
  },
  {
   "cell_type": "code",
   "execution_count": 18,
   "metadata": {},
   "outputs": [],
   "source": [
    "@jit(nopython=True)\n",
    "def get_p_surv_inv_int(fit, dt,reg= 1e-1):\n",
    "    L = len(fit)\n",
    "    pi_ext_ode_hand_inv_t = np.zeros(L)\n",
    "    pi_ext_ode_hand_inv_t[-1] = np.minimum(1/(1+fit[-1]),1-reg)\n",
    "    for i in range(L-1):\n",
    "        pi_ext= pi_ext_ode_hand_inv_t[L-1-i]\n",
    "        pi_ext_ode_hand_inv_t[L-2-i] = pi_ext -dt * (1-pi_ext)*(-1+pi_ext*(1+fit[L-2-i]))\n",
    "    p_surv = 1-pi_ext_ode_hand_inv_t\n",
    "    return p_surv\n",
    "            \n",
    "def get_product_sum_proba_ode(R0,kappa,N, p_alpha, xi, track_progress=False):\n",
    "    d_alpha = int(1/p_alpha)\n",
    "    ds = np.arange(1,10*d_alpha)\n",
    "    \n",
    "    fit_d = lambda x,y,z, d: R0/(1+y*kappa) * ( x + (1- np.exp(-d/xi))*z )-1\n",
    "\n",
    "    ts, solution = integrate_trajectory(R0,kappa,N)\n",
    "    x, y = solution/N\n",
    "    z = 1-x-y\n",
    "\n",
    "    product_sum = np.zeros_like(ts)\n",
    "    for d in tqdm(ds, disable=not track_progress):\n",
    "        f = fit_d(x,y,z,d)\n",
    "        product_sum += funcs.rho_d(d=d,p_alpha=p_alpha )*get_p_surv_inv_int(f, ts[1]-ts[0])\n",
    "\n",
    "    return ts, product_sum\n",
    "\n",
    "def get_exp_num_established_ode(R0,kappa,N, p_alpha, xi, track_progress=False):\n",
    "    d_alpha = int(1/p_alpha)\n",
    "    ds = np.arange(1,10*d_alpha)\n",
    "\n",
    "    fit_d = lambda x,y,z, d: R0/(1+y*kappa) * ( x + (1- np.exp(-d/xi))*z )-1\n",
    "\n",
    "    ts, solution = integrate_trajectory(R0,kappa,N)\n",
    "    x, y = solution/N\n",
    "    z = 1-x-y\n",
    "\n",
    "    # new_f = fit_d(new_x,new_y,new_z,d)\n",
    "    product_sum = np.zeros_like(ts)\n",
    "    for d in tqdm(ds, disable=not track_progress):\n",
    "        f = fit_d(x,y,z,d)\n",
    "        pi_direct = get_p_surv_inv_int(f, ts[1]-ts[0])\n",
    "        product_sum += funcs.rho_d(d=d,p_alpha=p_alpha )*pi_direct\n",
    "\n",
    "    exp_num_est = np.trapz(product_sum*y , ts)*N\n",
    "    return exp_num_est\n"
   ]
  },
  {
   "cell_type": "code",
   "execution_count": 19,
   "metadata": {},
   "outputs": [],
   "source": [
    "import scipy.optimize as so\n",
    "R0 = R0s[2]\n",
    "mu=p_evo_df['mu'].unique()[0]\n",
    "N = p_evo_df['N'].unique()[0]\n",
    "p_alpha = p_evo_df['p_alpha'].unique()[0]\n",
    "\n",
    "\n",
    "\n",
    "if not os.path.exists(results_name+'exp_t_dep_nums_ode_df.feather'):\n",
    "    exp_t_dep_nums_df = pd.DataFrame.from_dict({i:(xi, R0, kappa, mu*get_exp_num_established_ode(R0=R0, kappa = kappa, p_alpha=p_alpha,xi = xi, N=N)) for i,(xi,R0,kappa) in enumerate(funcs.product(xi_s,R0s,kappa_s))},orient='index', columns=['xi','R0', 'kappa','exp_num_est_mutants'])\n",
    "    exp_t_dep_nums_df['mu']= mu\n",
    "    exp_t_dep_nums_df['N']= N\n",
    "    exp_t_dep_nums_df['p_alpha']= p_alpha\n",
    "    exp_t_dep_nums_df['kappa_plot']= 1+exp_t_dep_nums_df['kappa']\n",
    "    exp_t_dep_nums_df['mut_strength'] =1/(exp_t_dep_nums_df['xi']*exp_t_dep_nums_df['p_alpha']) * np.log(exp_t_dep_nums_df['mu']*exp_t_dep_nums_df['N'])\n",
    "    exp_t_dep_nums_df[\"p_alpha\"]= p_alpha\n",
    "    exp_t_dep_nums_df[\"p_evo\"]= 1-np.exp(-exp_t_dep_nums_df[\"exp_num_est_mutants\"])\n",
    "    exp_t_dep_nums_df.to_feather(results_name+'exp_t_dep_nums_ode_df.feather')\n",
    "else:\n",
    "    exp_t_dep_nums_df = pd.read_feather(results_name+'exp_t_dep_nums_ode_df.feather')\n"
   ]
  },
  {
   "cell_type": "code",
   "execution_count": 20,
   "metadata": {},
   "outputs": [],
   "source": [
    "p_evo_df['error_p_evo'] = np.sqrt(p_evo_df['p_evo']*(1-p_evo_df['p_evo'])/1000)"
   ]
  },
  {
   "cell_type": "code",
   "execution_count": 21,
   "metadata": {},
   "outputs": [
    {
     "name": "stdout",
     "output_type": "stream",
     "text": [
      "2.4703649310695934\n"
     ]
    },
    {
     "data": {
      "image/png": "[encoded data removed]",
      "text/plain": [
       "<Figure size 720x720 with 1 Axes>"
      ]
     },
     "metadata": {
      "needs_background": "light"
     },
     "output_type": "display_data"
    }
   ],
   "source": [
    "p_evo_df['scaled_d'] = 1/(p_evo_df['xi'] * p_evo_df['p_alpha']) \n",
    "p_evo_df['p_ext']= 1-p_evo_df['p_evo']\n",
    "\n",
    "\n",
    "delta_s = 1/(xi_s*p_alpha) \n",
    "delta_s_plot= np.logspace(np.log(delta_s[0]),np.log(delta_s[-1]),1000,base=np.e)\n",
    "savefig = True\n",
    "\n",
    "for R0 in R0s[5:6]:\n",
    "    print(R0)\n",
    "    zinf_inf = (R0-1)/R0\n",
    "    fig,ax = plt.subplots(1,1,figsize=(10,10),sharey=True)\n",
    "    # plt.plot(kappa_s, 1-np.exp(-np.array(exp_t_dep_nums)), 'o')\n",
    "    # plt.plot(kappa_s, 1-np.exp(-np.array(exp_t_dep_nums_adiabatic)), 'X')\n",
    "    sns.lineplot(p_evo_df\n",
    "        .query(f'R0=={R0} & p_alpha=={p_alpha} & kappa== {0} '), x='scaled_d', y='p_evo', ax=ax, legend=None,alpha=.8, color='orangered', linestyle='',marker ='D',ms=15, label = r'$simulations, \\kappa=0$')\n",
    "    sns.lineplot(p_evo_df\n",
    "        .query(f'R0=={R0} & p_alpha=={p_alpha} & kappa== {kappa_s[-1]} '), x='scaled_d', y='p_evo', ax=ax, legend='brief',alpha=.8, color='gold',linestyle='',marker ='X',ms=15, label = r'$simulations, \\kappa=1000$')\n",
    "\n",
    "    m_strength = 1/(xi_s*p_alpha) * np.log(mu*N)\n",
    "    \n",
    "    exp_val = mu*N*delta_s_plot * ((R0-1)/R0)**2 /2\n",
    "    exp_val_alt= mu*N*delta_s_plot * (-zinf_inf- np.log(1-zinf_inf) )/2\n",
    "    p_evo_kappa0 = 1- np.exp(-mu*N*np.log(R0)/(R0)*np.power(R0/(R0-1),-1/delta_s_plot) )    \n",
    "\n",
    "    # label_k_inf = r'$ 1-\\mathrm{e}^{- \\frac{\\mu N}{2} \\frac{ \\langle d \\rangle}{\\xi} \\left( \\frac{R_0-1}{R_0}\\right) ^2}$'\n",
    "    label_k_inf = r'$p_\\mathrm{evo}\\left(\\kappa\\gg\\tilde{\\kappa}\\right)$'\n",
    "    # label_k_0 = r'$ 1-\\mathrm{e}^{- \\mu N\\; \\frac{\\log R_0}{R_0} \\left(\\frac{R_0}{R_0-1}\\right)^{-\\xi/\\langle d\\rangle}}$'\n",
    "    label_k_0 = r'$p_\\mathrm{evo}\\left(\\kappa\\ll\\tilde{\\kappa}\\right)$'\n",
    "    \n",
    "    ax.plot(delta_s_plot ,1-np.exp(-exp_val), color='gold',ms=20,label=label_k_inf,linestyle='--')\n",
    "    ax.plot(delta_s_plot ,p_evo_kappa0, ms=10, color= 'orangered', label=label_k_0,linestyle='--')\n",
    "\n",
    "    ax.set_xscale('log')\n",
    "    ax.set_xlabel(r'')\n",
    "    ax.set_ylabel(r'')\n",
    "\n",
    "    handles, labels = ax.get_legend_handles_labels()\n",
    "    labels = ['Simulations', r'$\\kappa=0$', r'$\\kappa=1000$', 'Theory', label_k_inf, label_k_0]\n",
    "    empty_handle = mpl.lines.Line2D([], [], linestyle='none', label='')\n",
    "    handles = [empty_handle, handles[0], handles[1], empty_handle, handles[2], handles[3]]\n",
    "\n",
    "    ax.legend(handles,labels, loc= 'best', fontsize= 25)\n",
    "\n",
    "    if savefig: plt.savefig(output_folder+f'/fig3_R0_{R0:.1f}.svg', bbox_inches='tight')"
   ]
  },
  {
   "cell_type": "code",
   "execution_count": null,
   "metadata": {},
   "outputs": [],
   "source": []
  }
 ],
 "metadata": {
  "kernelspec": {
   "display_name": "base",
   "language": "python",
   "name": "python3"
  },
  "language_info": {
   "codemirror_mode": {
    "name": "ipython",
    "version": 3
   },
   "file_extension": ".py",
   "mimetype": "text/x-python",
   "name": "python",
   "nbconvert_exporter": "python",
   "pygments_lexer": "ipython3",
   "version": "3.7.10"
  },
  "orig_nbformat": 4
 },
 "nbformat": 4,
 "nbformat_minor": 2
}
