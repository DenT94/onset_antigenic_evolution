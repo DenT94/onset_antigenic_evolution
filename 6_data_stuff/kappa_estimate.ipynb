{
 "cells": [
  {
   "cell_type": "code",
   "execution_count": 1,
   "metadata": {},
   "outputs": [],
   "source": [
    "import sys\n",
    "sys.path.append('..')\n",
    "from src.evo_eq_model import *"
   ]
  },
  {
   "cell_type": "code",
   "execution_count": 2,
   "metadata": {},
   "outputs": [],
   "source": [
    "import random\n",
    "import numpy.random as rnd\n",
    "import networkx as nx\n",
    "from anytree import Node\n",
    "from tqdm import tqdm\n",
    "import numpy as np\n",
    "import os\n",
    "import sys\n",
    "# from jupyter_server import serverapp as app; \n",
    "# import ipykernel, requests;\n",
    "if(sys.version_info[1]<= 7):\n",
    "    import pickle5 as pickle\n",
    "else:\n",
    "    import pickle\n",
    "\n",
    "import pandas as pd\n",
    "import scipy.interpolate as spi\n",
    "import scipy.optimize as so\n",
    "\n",
    "import seaborn as sns\n",
    "import matplotlib.pyplot as plt\n",
    "import matplotlib.gridspec as gridspec\n",
    "import matplotlib as mpl\n",
    "\n",
    "from matplotlib.ticker import FuncFormatter\n",
    "\n",
    "fmt = lambda x, pos: '{:.1f}'.format(x)\n",
    "from numba import jit\n",
    "\n",
    "#matplotlib.use('TkAgg')\n",
    "from matplotlib.lines import Line2D\n",
    "plt.rc('mathtext', default='regular')\n",
    "plt.rc('lines', linewidth=3.0)\n",
    "plt.rcParams['xtick.labelsize']=30\n",
    "plt.rcParams['ytick.labelsize']=30\n",
    "plt.rcParams['axes.labelsize']=35\n",
    "plt.rcParams['legend.fontsize']= 35\n",
    "plt.rcParams['figure.figsize'] = (20, 10)\n",
    "plt.rcParams['image.cmap']='coolwarm'\n",
    "plt.rcParams['axes.titlesize'] = 40\n",
    "plt.rcParams['figure.titlesize'] = 40\n",
    "#set legend titlesize to 40\n",
    "plt.rcParams['legend.title_fontsize'] = 40"
   ]
  },
  {
   "cell_type": "code",
   "execution_count": 3,
   "metadata": {},
   "outputs": [],
   "source": [
    "home = os.path.expanduser(\"~\")\n",
    "project_path =  os.path.relpath(\"..\")\n",
    "if project_path not in sys.path:\n",
    "    sys.path.append(project_path)\n",
    "\n",
    "sys.path.insert(1, project_path)\n",
    "output_folder= project_path+'/outputs/'"
   ]
  },
  {
   "cell_type": "code",
   "execution_count": 4,
   "metadata": {},
   "outputs": [],
   "source": [
    "def model(X, t, R0, kappa):\n",
    "    x = X[0]\n",
    "    y = X[1]\n",
    "    z = X[2]\n",
    "    dxdt = - R0/(1+kappa * y) *x * y\n",
    "    dydt =  R0/(1+kappa* y) * x * y - y\n",
    "    dzdt = y\n",
    "    return [dxdt, dydt, dzdt]\n",
    "\n",
    "def model_w_params(R0, N, k): \n",
    "    def model(y,t):\n",
    "        S = y[0]\n",
    "        I = y[1]\n",
    "        R0_eff = R0/(1+k*I/(N))\n",
    "        dSdt = - R0_eff * S*I/N \n",
    "        dIdt =  R0_eff * S*I/N -I\n",
    "        return [dSdt,dIdt]\n",
    "    return model\n",
    "\n",
    "@jit(nopython=True)    \n",
    "def find_t_intersection(f,g, t):\n",
    "    #print(np.sign(f - g))\n",
    "    idx = np.argwhere(np.diff(np.sign(f - g))).flatten()\n",
    "    #print(idx)\n",
    "    if len(idx)>0:\n",
    "        return t[idx[0]]\n",
    "    else:\n",
    "        return np.inf\n",
    "\n",
    "@jit(nopython=True)    \n",
    "def find_ind_intersection(f,g):\n",
    "    #print(np.sign(f - g))\n",
    "    idx = np.argwhere(np.diff(np.sign(f - g))).flatten()\n",
    "    #print(idx)\n",
    "    if len(idx)>0:\n",
    "        return idx[0]\n",
    "    else:\n",
    "        return np.inf\n",
    "\n",
    "@jit(nopython=True)\n",
    "def get_p_surv_inv_int(fit, dt,reg= 1e-1):\n",
    "    L = len(fit)\n",
    "    pi_ext_ode_hand_inv_t = np.zeros(L)\n",
    "    pi_ext_ode_hand_inv_t[-1] = np.minimum(1/(1+fit[-1]),1-reg)\n",
    "    for i in range(L-1):\n",
    "        pi_ext= pi_ext_ode_hand_inv_t[L-1-i]\n",
    "        pi_ext_ode_hand_inv_t[L-2-i] = pi_ext -dt * (1-pi_ext)*(-1+pi_ext*(1+fit[L-2-i]))\n",
    "    p_surv = 1-pi_ext_ode_hand_inv_t\n",
    "    return p_surv\n",
    "\n",
    "def find_x_inf(R0,k):\n",
    "    if k>0:\n",
    "        c = (R0-k+R0*k)/(k*(R0-k))\n",
    "        rho = 1/(R0/k)\n",
    "        y_x = lambda x: c*x**rho + x/(rho-1) - 1/k\n",
    "\n",
    "        roots = so.fsolve(y_x, 0)\n",
    "        return roots[0]\n",
    "    else:\n",
    "        return np.real(-1/R0*sps.lambertw(-R0*np.exp(-R0)))\n",
    "    \n",
    "def integrate_trajectory(R0,kappa,N, I0=10,Nsteps = 10000):\n",
    "    S0 = N-I0\n",
    "    y0 = [S0,I0]\n",
    "    x_inf = find_x_inf(R0,kappa)\n",
    "    \n",
    "    t_end = 1.5*np.log(N)* (1/(R0-1) + 1/(1-R0*x_inf))\n",
    "    ts = np.linspace(0, t_end,Nsteps)\n",
    "    dt = ts[1]-ts[0]\n",
    "    solution  = odeint(model_w_params(R0,N,kappa),y0,ts).T\n",
    "    x,y= solution\n",
    "    tp = ts[np.argmax(y)]\n",
    "\n",
    "\n",
    "    return ts, solution"
   ]
  },
  {
   "cell_type": "code",
   "execution_count": 5,
   "metadata": {},
   "outputs": [],
   "source": [
    "immune_classes = pd.read_csv(os.getcwd()+'/data/immune_classes.txt', sep = '\\t')\n",
    "immune_classes.rename(columns = {'Unnamed: 0':'t_ind'}, inplace = True)"
   ]
  },
  {
   "cell_type": "code",
   "execution_count": 6,
   "metadata": {},
   "outputs": [],
   "source": [
    "home = os.path.expanduser(\"~\")\n",
    "project_path =  os.path.relpath(\"..\")\n",
    "if project_path not in sys.path:\n",
    "    sys.path.append(project_path)\n",
    "\n",
    "sys.path.insert(1, project_path)\n",
    "output_folder= project_path+'/outputs/'"
   ]
  },
  {
   "cell_type": "code",
   "execution_count": 7,
   "metadata": {},
   "outputs": [],
   "source": [
    "\n",
    "covid_data = pd.read_csv(os.getcwd()+'/data/covid_data.csv')\n"
   ]
  },
  {
   "cell_type": "code",
   "execution_count": 8,
   "metadata": {},
   "outputs": [],
   "source": [
    "start_date = '2020-07-01'\n",
    "end_date_before_omicron = '2021-23-12'\n",
    "end_date_before_xbb = '2022-23-12'"
   ]
  },
  {
   "cell_type": "code",
   "execution_count": null,
   "metadata": {},
   "outputs": [],
   "source": []
  },
  {
   "cell_type": "code",
   "execution_count": 9,
   "metadata": {},
   "outputs": [],
   "source": [
    "covid_data_between_start_and_omicron = covid_data[(covid_data['date']>=start_date) & (covid_data['date']<=end_date_before_omicron)]\n",
    "covid_data_between_start_and_xbb = covid_data[(covid_data['date']>=start_date) & (covid_data['date']<=end_date_before_xbb)]"
   ]
  },
  {
   "cell_type": "code",
   "execution_count": null,
   "metadata": {},
   "outputs": [],
   "source": []
  },
  {
   "cell_type": "code",
   "execution_count": 10,
   "metadata": {},
   "outputs": [],
   "source": [
    "average_weekly_cases_between_start_and_omicron = covid_data_between_start_and_omicron.groupby('location')['new_cases_smoothed'].mean().reset_index()\n",
    "average_weekly_cases_between_start_and_xbb = covid_data_between_start_and_xbb.groupby('location')['new_cases_smoothed'].mean().reset_index()\n",
    "\n",
    "# #add a column with the population of each country\n",
    "average_weekly_cases_between_start_and_omicron = average_weekly_cases_between_start_and_omicron.merge(covid_data_between_start_and_omicron[['location','population']].drop_duplicates(), on = 'location')\n",
    "average_weekly_cases_between_start_and_xbb = average_weekly_cases_between_start_and_xbb.merge(covid_data_between_start_and_xbb[['location','population']].drop_duplicates(), on = 'location')\n",
    "\n",
    "average_weekly_cases_between_start_and_omicron['weekly_cases'] = 7*average_weekly_cases_between_start_and_omicron['new_cases_smoothed']\n",
    "average_weekly_cases_between_start_and_xbb['weekly_cases'] = 7*average_weekly_cases_between_start_and_xbb['new_cases_smoothed']"
   ]
  },
  {
   "cell_type": "code",
   "execution_count": 11,
   "metadata": {},
   "outputs": [],
   "source": [
    "average_weekly_cases_between_start_and_omicron['weekly_case_density'] = average_weekly_cases_between_start_and_omicron['weekly_cases']/average_weekly_cases_between_start_and_omicron['population']\n",
    "average_weekly_cases_between_start_and_xbb['weekly_case_density'] = average_weekly_cases_between_start_and_xbb['weekly_cases']/average_weekly_cases_between_start_and_xbb['population']"
   ]
  },
  {
   "cell_type": "code",
   "execution_count": 17,
   "metadata": {},
   "outputs": [
    {
     "data": {
      "text/html": [
       "<div>\n",
       "<style scoped>\n",
       "    .dataframe tbody tr th:only-of-type {\n",
       "        vertical-align: middle;\n",
       "    }\n",
       "\n",
       "    .dataframe tbody tr th {\n",
       "        vertical-align: top;\n",
       "    }\n",
       "\n",
       "    .dataframe thead th {\n",
       "        text-align: right;\n",
       "    }\n",
       "</style>\n",
       "<table border=\"1\" class=\"dataframe\">\n",
       "  <thead>\n",
       "    <tr style=\"text-align: right;\">\n",
       "      <th></th>\n",
       "      <th>location</th>\n",
       "      <th>new_cases_smoothed</th>\n",
       "      <th>population</th>\n",
       "      <th>weekly_cases</th>\n",
       "      <th>weekly_case_density</th>\n",
       "    </tr>\n",
       "  </thead>\n",
       "  <tbody>\n",
       "    <tr>\n",
       "      <th>0</th>\n",
       "      <td>Afghanistan</td>\n",
       "      <td>234.223483</td>\n",
       "      <td>4.112877e+07</td>\n",
       "      <td>1.639564e+03</td>\n",
       "      <td>0.000040</td>\n",
       "    </tr>\n",
       "    <tr>\n",
       "      <th>1</th>\n",
       "      <td>Africa</td>\n",
       "      <td>16861.554257</td>\n",
       "      <td>1.426737e+09</td>\n",
       "      <td>1.180309e+05</td>\n",
       "      <td>0.000083</td>\n",
       "    </tr>\n",
       "    <tr>\n",
       "      <th>2</th>\n",
       "      <td>Albania</td>\n",
       "      <td>373.247730</td>\n",
       "      <td>2.842318e+06</td>\n",
       "      <td>2.612734e+03</td>\n",
       "      <td>0.000919</td>\n",
       "    </tr>\n",
       "    <tr>\n",
       "      <th>3</th>\n",
       "      <td>Algeria</td>\n",
       "      <td>371.365590</td>\n",
       "      <td>4.490323e+07</td>\n",
       "      <td>2.599559e+03</td>\n",
       "      <td>0.000058</td>\n",
       "    </tr>\n",
       "    <tr>\n",
       "      <th>4</th>\n",
       "      <td>American Samoa</td>\n",
       "      <td>0.020044</td>\n",
       "      <td>4.429500e+04</td>\n",
       "      <td>1.403060e-01</td>\n",
       "      <td>0.000003</td>\n",
       "    </tr>\n",
       "    <tr>\n",
       "      <th>...</th>\n",
       "      <td>...</td>\n",
       "      <td>...</td>\n",
       "      <td>...</td>\n",
       "      <td>...</td>\n",
       "      <td>...</td>\n",
       "    </tr>\n",
       "    <tr>\n",
       "      <th>249</th>\n",
       "      <td>Wallis and Futuna</td>\n",
       "      <td>0.825146</td>\n",
       "      <td>1.159600e+04</td>\n",
       "      <td>5.776020e+00</td>\n",
       "      <td>0.000498</td>\n",
       "    </tr>\n",
       "    <tr>\n",
       "      <th>250</th>\n",
       "      <td>World</td>\n",
       "      <td>492859.244872</td>\n",
       "      <td>7.975105e+09</td>\n",
       "      <td>3.450015e+06</td>\n",
       "      <td>0.000433</td>\n",
       "    </tr>\n",
       "    <tr>\n",
       "      <th>251</th>\n",
       "      <td>Yemen</td>\n",
       "      <td>16.592725</td>\n",
       "      <td>3.369661e+07</td>\n",
       "      <td>1.161491e+02</td>\n",
       "      <td>0.000003</td>\n",
       "    </tr>\n",
       "    <tr>\n",
       "      <th>252</th>\n",
       "      <td>Zambia</td>\n",
       "      <td>414.928732</td>\n",
       "      <td>2.001767e+07</td>\n",
       "      <td>2.904501e+03</td>\n",
       "      <td>0.000145</td>\n",
       "    </tr>\n",
       "    <tr>\n",
       "      <th>253</th>\n",
       "      <td>Zimbabwe</td>\n",
       "      <td>367.031985</td>\n",
       "      <td>1.632054e+07</td>\n",
       "      <td>2.569224e+03</td>\n",
       "      <td>0.000157</td>\n",
       "    </tr>\n",
       "  </tbody>\n",
       "</table>\n",
       "<p>254 rows × 5 columns</p>\n",
       "</div>"
      ],
      "text/plain": [
       "              location  new_cases_smoothed    population  weekly_cases  \\\n",
       "0          Afghanistan          234.223483  4.112877e+07  1.639564e+03   \n",
       "1               Africa        16861.554257  1.426737e+09  1.180309e+05   \n",
       "2              Albania          373.247730  2.842318e+06  2.612734e+03   \n",
       "3              Algeria          371.365590  4.490323e+07  2.599559e+03   \n",
       "4       American Samoa            0.020044  4.429500e+04  1.403060e-01   \n",
       "..                 ...                 ...           ...           ...   \n",
       "249  Wallis and Futuna            0.825146  1.159600e+04  5.776020e+00   \n",
       "250              World       492859.244872  7.975105e+09  3.450015e+06   \n",
       "251              Yemen           16.592725  3.369661e+07  1.161491e+02   \n",
       "252             Zambia          414.928732  2.001767e+07  2.904501e+03   \n",
       "253           Zimbabwe          367.031985  1.632054e+07  2.569224e+03   \n",
       "\n",
       "     weekly_case_density  \n",
       "0               0.000040  \n",
       "1               0.000083  \n",
       "2               0.000919  \n",
       "3               0.000058  \n",
       "4               0.000003  \n",
       "..                   ...  \n",
       "249             0.000498  \n",
       "250             0.000433  \n",
       "251             0.000003  \n",
       "252             0.000145  \n",
       "253             0.000157  \n",
       "\n",
       "[254 rows x 5 columns]"
      ]
     },
     "execution_count": 17,
     "metadata": {},
     "output_type": "execute_result"
    }
   ],
   "source": [
    "average_weekly_cases_between_start_and_omicron"
   ]
  },
  {
   "cell_type": "code",
   "execution_count": 18,
   "metadata": {},
   "outputs": [],
   "source": [
    "# sns.lineplot(data = average_weekly_cases_between_start_and_omicron, x = 'location', y = 'weekly_case_density',hue = 'location')\n"
   ]
  },
  {
   "cell_type": "code",
   "execution_count": 12,
   "metadata": {},
   "outputs": [
    {
     "data": {
      "image/png": "[encoded data removed]",
      "text/plain": [
       "<Figure size 1000x1000 with 1 Axes>"
      ]
     },
     "metadata": {},
     "output_type": "display_data"
    }
   ],
   "source": [
    "fig,ax= plt.subplots(1,1, figsize = (10,10),sharex= True)\n",
    "ax = [ax]\n",
    "sns.histplot(data = average_weekly_cases_between_start_and_omicron['weekly_case_density']\n",
    "             , bins = np.logspace(-6,-2,30), kde = False, ax = ax[0], element='step',alpha=.5)\n",
    "ax[0].set_title(r'Distribution of weekly case density  between July 2020 and December 2021, $\\frac{R_0-1}{\\kappa}$',fontsize=20)\n",
    "\n",
    "# sns.histplot(data = average_weekly_cases_between_start_and_xbb['weekly_case_density']\n",
    "                # , bins = np.logspace(-6,-2,30), kde = False, ax = ax[1], element='step',alpha=.5)\n",
    "\n",
    "# ax[1].set_title('Distribution of avg. weekly case density between July 2020 and December 2022',fontsize=20)\n",
    "\n",
    "for a in ax:\n",
    "    a.tick_params(axis='both', which='major', labelsize=15)\n",
    "    a.set_xscale('log')\n",
    "    # a.set_yscale('log')\n",
    "    a.set_xlabel('weekly case density',fontsize=20)\n",
    "    a.set_ylabel('Counts',fontsize=20)\n",
    "\n",
    "color_location = {'World':'black','Europe':'blue', 'Asia':'red', 'North America':'green', 'South America':'purple'}\n",
    "\n",
    "for c in ['World','Europe', 'Asia', 'North America', 'South America']:\n",
    "    ax[0].axvline(average_weekly_cases_between_start_and_omicron[average_weekly_cases_between_start_and_omicron['location']==c]['weekly_case_density'].values[0], linestyle = '--',color = color_location[c], label = f'{c}: {average_weekly_cases_between_start_and_omicron[average_weekly_cases_between_start_and_omicron[\"location\"]==c][\"weekly_case_density\"].values[0]:.1e}')\n",
    "    # ax[1].axvline(average_weekly_cases_between_start_and_xbb[average_weekly_cases_between_start_and_xbb['location']==c]['weekly_case_density'].values[0], linestyle = '--',color = color_location[c], label = f'{c}: {average_weekly_cases_between_start_and_xbb[average_weekly_cases_between_start_and_xbb[\"location\"]==c][\"weekly_case_density\"].values[0]:.1e}')\n",
    "    \n",
    "ax[0].legend(loc=(1.01,.1),fontsize=15)\n",
    "# ax[1].legend(loc=(1.01,.1),fontsize=15)\n",
    "\n",
    "plt.savefig(output_folder+'kappa_estimation_case_density_distribution.pdf',bbox_inches='tight')"
   ]
  },
  {
   "cell_type": "code",
   "execution_count": 13,
   "metadata": {},
   "outputs": [
    {
     "data": {
      "text/plain": [
       "70    8.872044\n",
       "Name: population, dtype: float64"
      ]
     },
     "execution_count": 13,
     "metadata": {},
     "output_type": "execute_result"
    }
   ],
   "source": [
    "np.log10(average_weekly_cases_between_start_and_omicron.query('location == \"Europe\"')['population'])"
   ]
  },
  {
   "cell_type": "code",
   "execution_count": 14,
   "metadata": {},
   "outputs": [
    {
     "data": {
      "text/plain": [
       "'2.5e+09'"
      ]
     },
     "execution_count": 14,
     "metadata": {},
     "output_type": "execute_result"
    }
   ],
   "source": [
    "f'{(1/(1e-6*4e-4)):.1e}'"
   ]
  },
  {
   "cell_type": "code",
   "execution_count": null,
   "metadata": {},
   "outputs": [],
   "source": []
  },
  {
   "cell_type": "code",
   "execution_count": null,
   "metadata": {},
   "outputs": [],
   "source": []
  }
 ],
 "metadata": {
  "kernelspec": {
   "display_name": "base",
   "language": "python",
   "name": "python3"
  },
  "language_info": {
   "codemirror_mode": {
    "name": "ipython",
    "version": 3
   },
   "file_extension": ".py",
   "mimetype": "text/x-python",
   "name": "python",
   "nbconvert_exporter": "python",
   "pygments_lexer": "ipython3",
   "version": "3.12.2"
  }
 },
 "nbformat": 4,
 "nbformat_minor": 2
}
